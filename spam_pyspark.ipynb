{
  "nbformat": 4,
  "nbformat_minor": 0,
  "metadata": {
    "colab": {
      "provenance": []
    },
    "kernelspec": {
      "name": "python3",
      "display_name": "Python 3"
    },
    "language_info": {
      "name": "python"
    }
  },
  "cells": [
    {
      "cell_type": "code",
      "execution_count": 1,
      "metadata": {
        "colab": {
          "base_uri": "https://localhost:8080/"
        },
        "id": "cIhd0sV79bek",
        "outputId": "875ecf7a-3575-4271-c035-eeb43e612268"
      },
      "outputs": [
        {
          "output_type": "stream",
          "name": "stdout",
          "text": [
            "Mounted at /content/drive\n"
          ]
        }
      ],
      "source": [
        "from google.colab import drive\n",
        "drive.mount('/content/drive')"
      ]
    },
    {
      "cell_type": "code",
      "source": [
        "from pyspark.sql import SparkSession\n",
        "from pyspark.ml.feature import RegexTokenizer, StopWordsRemover, CountVectorizer, IDF, StringIndexer\n",
        "from pyspark.ml.classification import NaiveBayes, RandomForestClassifier, LogisticRegression\n",
        "from pyspark.ml import Pipeline\n",
        "from pyspark.ml.evaluation import MulticlassClassificationEvaluator\n",
        "from pyspark.ml.tuning import ParamGridBuilder, CrossValidator\n",
        "from pyspark.sql.functions import col, when, concat_ws\n",
        "import matplotlib.pyplot as plt\n",
        "import seaborn as sns\n",
        "import numpy as np\n",
        "from pyspark.mllib.evaluation import MulticlassMetrics\n",
        "\n",
        "# Initialiser la session Spark\n",
        "spark = SparkSession.builder \\\n",
        "    .appName('SpamDetection') \\\n",
        "    .master('local[*]') \\\n",
        "    .getOrCreate()\n"
      ],
      "metadata": {
        "id": "wETzfxbdAcvh"
      },
      "execution_count": 2,
      "outputs": []
    },
    {
      "cell_type": "code",
      "source": [
        "# ===== CHARGEMENT DES DONNÉES =====\n",
        "# Charger le fichier\n",
        "df_raw = spark.read \\\n",
        "    .option(\"header\", \"true\") \\\n",
        "    .option(\"inferSchema\", \"true\") \\\n",
        "    .option(\"delimiter\", \",\") \\\n",
        "    .csv(\"/content/drive/MyDrive/spam.csv\")"
      ],
      "metadata": {
        "id": "PXuTZu5vWBkN"
      },
      "execution_count": 3,
      "outputs": []
    },
    {
      "cell_type": "code",
      "source": [
        "# ===== RENOMMER v1 -> label et v2 -> texte =====\n",
        "\n",
        "if \"v1\" in df_raw.columns and \"v2\" in df_raw.columns:\n",
        "    print(\"\\n✓ Colonnes v1 et v2 détectées\")\n",
        "\n",
        "    # Vérifier s'il y a d'autres colonnes (v2,,,)\n",
        "    if len(df_raw.columns) == 2:\n",
        "        # Cas simple: seulement v1 et v2\n",
        "        df = df_raw.select(\n",
        "            col(\"v1\").alias(\"label\"),\n",
        "            col(\"v2\").alias(\"texte\")\n",
        "        )\n",
        "    else:\n",
        "        # Il y a plusieurs colonnes pour le texte\n",
        "        print(f\"Nombre total de colonnes: {len(df_raw.columns)}\")\n",
        "\n",
        "        # Combiner toutes les colonnes de texte (v2, les colonnes vides, etc.)\n",
        "        colonnes_texte = [c for c in df_raw.columns if c != \"v1\"]\n",
        "\n",
        "        df = df_raw.select(\n",
        "            col(\"v1\").alias(\"label\"),\n",
        "            concat_ws(\" \", *[col(c) for c in colonnes_texte]).alias(\"texte\")\n",
        "        )\n",
        "\n",
        "        # Nettoyer les espaces multiples et \"null\" textuels\n",
        "        from pyspark.sql.functions import regexp_replace, trim\n",
        "        df = df.withColumn(\"texte\", regexp_replace(col(\"texte\"), \"null\", \"\"))\n",
        "        df = df.withColumn(\"texte\", regexp_replace(col(\"texte\"), \"\\\\s+\", \" \"))\n",
        "        df = df.withColumn(\"texte\", trim(col(\"texte\")))\n",
        "\n",
        "else:\n",
        "    print(\"⚠️ Format non reconnu. Colonnes disponibles:\", df_raw.columns)\n",
        "    # Utiliser les premières colonnes disponibles\n",
        "    colonnes = df_raw.columns\n",
        "    df = df_raw.select(\n",
        "        col(colonnes[0]).alias(\"label\"),\n",
        "        col(colonnes[1]).alias(\"texte\")\n",
        "    )\n",
        "\n",
        "print(\"\\n=== Après renommage ===\")\n",
        "df.show(5, truncate=50)\n",
        "df.printSchema()\n"
      ],
      "metadata": {
        "colab": {
          "base_uri": "https://localhost:8080/"
        },
        "id": "hB-zFZgYRDzP",
        "outputId": "6d88640c-d0f5-4a97-d02b-60f9fce04b4d"
      },
      "execution_count": 4,
      "outputs": [
        {
          "output_type": "stream",
          "name": "stdout",
          "text": [
            "\n",
            "✓ Colonnes v1 et v2 détectées\n",
            "Nombre total de colonnes: 5\n",
            "\n",
            "=== Après renommage ===\n",
            "+-----+--------------------------------------------------+\n",
            "|label|                                             texte|\n",
            "+-----+--------------------------------------------------+\n",
            "|  ham|Go until jurong point, crazy.. Available only i...|\n",
            "|  ham|                     Ok lar... Joking wif u oni...|\n",
            "| spam|Free entry in 2 a wkly comp to win FA Cup final...|\n",
            "|  ham| U dun say so early hor... U c already then say...|\n",
            "|  ham|Nah I don't think he goes to usf, he lives arou...|\n",
            "+-----+--------------------------------------------------+\n",
            "only showing top 5 rows\n",
            "\n",
            "root\n",
            " |-- label: string (nullable = true)\n",
            " |-- texte: string (nullable = false)\n",
            "\n"
          ]
        }
      ]
    },
    {
      "cell_type": "code",
      "source": [
        "# ===== CONVERSION DES LABELS =====\n",
        "print(\"\\n=== Conversion des labels ===\")\n",
        "print(\"Labels uniques avant conversion:\")\n",
        "df.select(\"label\").distinct().show()\n",
        "\n",
        "# Convertir ham/spam en 0/1\n",
        "df = df.withColumn(\"label\",\n",
        "    when(col(\"label\").isin([\"spam\", \"1\", \"1.0\"]), 1.0)\n",
        "    .when(col(\"label\").isin([\"ham\", \"0\", \"0.0\"]), 0.0)\n",
        "    .otherwise(col(\"label\").cast(\"double\"))\n",
        ")\n",
        "\n",
        "print(\"\\nLabels après conversion:\")\n",
        "df.select(\"label\").distinct().show()"
      ],
      "metadata": {
        "colab": {
          "base_uri": "https://localhost:8080/"
        },
        "id": "g4T52bVEWuwn",
        "outputId": "a8d31445-a7c6-4bf8-9f7e-c1005afff91a"
      },
      "execution_count": 5,
      "outputs": [
        {
          "output_type": "stream",
          "name": "stdout",
          "text": [
            "\n",
            "=== Conversion des labels ===\n",
            "Labels uniques avant conversion:\n",
            "+------+\n",
            "| label|\n",
            "+------+\n",
            "|ham\"\"\"|\n",
            "|   ham|\n",
            "|  spam|\n",
            "+------+\n",
            "\n",
            "\n",
            "Labels après conversion:\n",
            "+-----+\n",
            "|label|\n",
            "+-----+\n",
            "|  0.0|\n",
            "|  1.0|\n",
            "| NULL|\n",
            "+-----+\n",
            "\n"
          ]
        }
      ]
    },
    {
      "cell_type": "code",
      "source": [
        "# ===== NETTOYAGE =====\n",
        "print(\"\\n=== Nettoyage des données ===\")\n",
        "print(f\"Lignes avant nettoyage: {df.count()}\")\n",
        "\n",
        "df = df.dropna()\n",
        "df = df.filter((col(\"texte\") != \"\") & (col(\"texte\").isNotNull()))\n",
        "df = df.filter(col(\"texte\").rlike(\".+\"))  # Au moins un caractère\n",
        "\n",
        "print(f\"Lignes après nettoyage: {df.count()}\")\n",
        "\n",
        "# Vérifier la distribution\n",
        "print(\"\\n=== Distribution des labels ===\")\n",
        "df.groupBy(\"label\").count().show()\n",
        "\n",
        "# Afficher quelques exemples\n",
        "print(\"\\n=== Exemples de données ===\")\n",
        "df.select(\"label\", \"texte\").show(10, truncate=50)"
      ],
      "metadata": {
        "colab": {
          "base_uri": "https://localhost:8080/"
        },
        "id": "OeD9yXqyXPUS",
        "outputId": "313d7cdb-5006-4d62-89b2-d3f7566bc94a"
      },
      "execution_count": 6,
      "outputs": [
        {
          "output_type": "stream",
          "name": "stdout",
          "text": [
            "\n",
            "=== Nettoyage des données ===\n",
            "Lignes avant nettoyage: 5574\n",
            "Lignes après nettoyage: 5572\n",
            "\n",
            "=== Distribution des labels ===\n",
            "+-----+-----+\n",
            "|label|count|\n",
            "+-----+-----+\n",
            "|  0.0| 4825|\n",
            "|  1.0|  747|\n",
            "+-----+-----+\n",
            "\n",
            "\n",
            "=== Exemples de données ===\n",
            "+-----+--------------------------------------------------+\n",
            "|label|                                             texte|\n",
            "+-----+--------------------------------------------------+\n",
            "|  0.0|Go until jurong point, crazy.. Available only i...|\n",
            "|  0.0|                     Ok lar... Joking wif u oni...|\n",
            "|  1.0|Free entry in 2 a wkly comp to win FA Cup final...|\n",
            "|  0.0| U dun say so early hor... U c already then say...|\n",
            "|  0.0|Nah I don't think he goes to usf, he lives arou...|\n",
            "|  1.0|FreeMsg Hey there darling it's been 3 week's no...|\n",
            "|  0.0|Even my brother is not like to speak with me. T...|\n",
            "|  0.0|As per your request 'Melle Melle (Oru Minnaminu...|\n",
            "|  1.0|WINNER!! As a valued network customer you have ...|\n",
            "|  1.0|Had your mobile 11 months or more? U R entitled...|\n",
            "+-----+--------------------------------------------------+\n",
            "only showing top 10 rows\n",
            "\n"
          ]
        }
      ]
    },
    {
      "cell_type": "code",
      "source": [
        "# ===== VÉRIFICATION DES DEUX CLASSES =====\n",
        "label_counts = df.groupBy(\"label\").count().collect()\n",
        "labels_present = [row['label'] for row in label_counts]\n",
        "\n",
        "if len(labels_present) < 2:\n",
        "    print(\"\\n⚠️ PROBLÈME: Une seule classe détectée!\")\n",
        "    print(\"Labels présents:\", labels_present)\n",
        "    print(\"\\nVérifiez le fichier source. Le dataset SMS Spam doit avoir:\")\n",
        "    print(\"- Des messages 'ham' (non-spam, label=0)\")\n",
        "    print(\"- Des messages 'spam' (spam, label=1)\")\n",
        "else:\n",
        "    print(\"\\n✓ Parfait! Les deux classes sont présentes\")\n",
        "\n",
        "    # ===== DIVISION DES DONNÉES =====\n",
        "    (trainingData, testData) = df.randomSplit([0.7, 0.3], seed=42)\n",
        "    print(f\"\\nDonnées d'entraînement: {trainingData.count()}\")\n",
        "    print(f\"Données de test: {testData.count()}\")\n",
        "\n",
        "    # ===== PIPELINE ET ENTRAÎNEMENT =====\n",
        "    from pyspark.ml.feature import RegexTokenizer, StopWordsRemover, CountVectorizer, IDF\n",
        "    from pyspark.ml.classification import NaiveBayes\n",
        "    from pyspark.ml import Pipeline\n",
        "\n",
        "    print(\"\\n=== Création du pipeline Naive Bayes ===\")\n",
        "\n",
        "    regexTokenizer = RegexTokenizer(\n",
        "        inputCol=\"texte\",\n",
        "        outputCol=\"mots\",\n",
        "        pattern=\"\\\\W\"\n",
        "    )\n",
        "\n",
        "    stopwordsRemover = StopWordsRemover(\n",
        "        inputCol=\"mots\",\n",
        "        outputCol=\"mots_filtres\"\n",
        "    )\n",
        "\n",
        "    countVectors = CountVectorizer(\n",
        "        inputCol=\"mots_filtres\",\n",
        "        outputCol=\"features_brutes\",\n",
        "        vocabSize=10000,\n",
        "        minDF=5\n",
        "    )\n",
        "\n",
        "    idf = IDF(\n",
        "        inputCol=\"features_brutes\",\n",
        "        outputCol=\"features\"\n",
        "    )\n",
        "\n",
        "    nb = NaiveBayes(\n",
        "        labelCol=\"label\",\n",
        "        featuresCol=\"features\",\n",
        "        smoothing=1.0,\n",
        "        modelType=\"multinomial\"\n",
        "    )\n",
        "\n",
        "    pipeline_nb = Pipeline(stages=[\n",
        "        regexTokenizer,\n",
        "        stopwordsRemover,\n",
        "        countVectors,\n",
        "        idf,\n",
        "        nb\n",
        "    ])"
      ],
      "metadata": {
        "colab": {
          "base_uri": "https://localhost:8080/"
        },
        "id": "u1c5r_H7YLpa",
        "outputId": "007da493-cf19-4a3d-cd89-297c9a451ba4"
      },
      "execution_count": 7,
      "outputs": [
        {
          "output_type": "stream",
          "name": "stdout",
          "text": [
            "\n",
            "✓ Parfait! Les deux classes sont présentes\n",
            "\n",
            "Données d'entraînement: 3979\n",
            "Données de test: 1593\n",
            "\n",
            "=== Création du pipeline Naive Bayes ===\n"
          ]
        }
      ]
    },
    {
      "cell_type": "code",
      "source": [
        " # Entraînement\n",
        "model_nb = pipeline_nb.fit(trainingData)\n",
        "predictions_nb = model_nb.transform(testData)\n",
        "print(\"✓ Modèle Naive Bayes entraîné avec succès!\")\n",
        "\n",
        "    # Évaluation\n",
        "\n",
        "evaluator_accuracy = MulticlassClassificationEvaluator(\n",
        "        labelCol=\"label\",\n",
        "        predictionCol=\"prediction\",\n",
        "        metricName=\"accuracy\"\n",
        "    )\n",
        "\n",
        "evaluator_f1 = MulticlassClassificationEvaluator(\n",
        "        labelCol=\"label\",\n",
        "        predictionCol=\"prediction\",\n",
        "        metricName=\"f1\"\n",
        "    )\n",
        "\n",
        "accuracy = evaluator_accuracy.evaluate(predictions_nb)\n",
        "f1_score = evaluator_f1.evaluate(predictions_nb)\n",
        "\n",
        "print(f\"\\n=== RÉSULTATS ===\")\n",
        "print(f\"Accuracy: {accuracy:.4f}\")\n",
        "print(f\"F1-Score: {f1_score:.4f}\")\n",
        "\n",
        "    # Exemples de prédictions\n",
        "print(\"\\n=== Exemples de prédictions ===\")\n",
        "predictions_nb.select(\"texte\", \"label\", \"prediction\").show(10, truncate=50)"
      ],
      "metadata": {
        "colab": {
          "base_uri": "https://localhost:8080/"
        },
        "id": "5iryIjVNYZke",
        "outputId": "277100c9-4dc8-4e16-ad46-56517974b56a"
      },
      "execution_count": 8,
      "outputs": [
        {
          "output_type": "stream",
          "name": "stdout",
          "text": [
            "✓ Modèle Naive Bayes entraîné avec succès!\n",
            "\n",
            "=== RÉSULTATS ===\n",
            "Accuracy: 0.9724\n",
            "F1-Score: 0.9730\n",
            "\n",
            "=== Exemples de prédictions ===\n",
            "+--------------------------------------------------+-----+----------+\n",
            "|                                             texte|label|prediction|\n",
            "+--------------------------------------------------+-----+----------+\n",
            "|\"7 wonders in My WORLD 7th You 6th Ur style 5th...|  0.0|       0.0|\n",
            "|\"A swt thought: \\Nver get tired of doing little...|  0.0|       0.0|\n",
            "|\"And that is the problem. You walk around in \\j...|  0.0|       0.0|\n",
            "|\"Awesome question with a cute answer: Someone a...|  0.0|       0.0|\n",
            "|\"Beautiful Truth against Gravity.. Read careful...|  0.0|       0.0|\n",
            "|\"Best line said in Love: . \\I will wait till th...|  0.0|       0.0|\n",
            "|\"Cool breeze... Bright sun... Fresh flower... T...|  0.0|       0.0|\n",
            "|\"Feb &lt;#&gt; is \\I LOVE U\"\" day. Send dis to ...|  0.0|       0.0|\n",
            "|\"Finally it has happened..! Aftr decades..! BEE...|  0.0|       0.0|\n",
            "|\"GOD ASKED, \\What is forgiveness?\"\" A little ch...|  0.0|       0.0|\n",
            "+--------------------------------------------------+-----+----------+\n",
            "only showing top 10 rows\n",
            "\n"
          ]
        }
      ]
    },
    {
      "cell_type": "code",
      "source": [
        "# ===== MODÈLE 2: RANDOM FOREST =====\n",
        "from pyspark.ml.classification import RandomForestClassifier\n",
        "\n",
        "print(\"\\n\" + \"=\"*60)\n",
        "print(\"=== ENTRAÎNEMENT RANDOM FOREST ===\")\n",
        "print(\"=\"*60)\n",
        "\n",
        "rf = RandomForestClassifier(\n",
        "    labelCol=\"label\",\n",
        "    featuresCol=\"features\",\n",
        "    numTrees=100,\n",
        "    maxDepth=10,\n",
        "    seed=42\n",
        ")\n",
        "\n",
        "pipeline_rf = Pipeline(stages=[\n",
        "    regexTokenizer,\n",
        "    stopwordsRemover,\n",
        "    countVectors,\n",
        "    idf,\n",
        "    rf\n",
        "])\n",
        "\n",
        "print(\"\\nEntraînement en cours...\")\n",
        "model_rf = pipeline_rf.fit(trainingData)\n",
        "predictions_rf = model_rf.transform(testData)\n",
        "print(\"✓ Random Forest entraîné avec succès!\")\n",
        "\n",
        "# Évaluation\n",
        "accuracy_rf = evaluator_accuracy.evaluate(predictions_rf)\n",
        "f1_rf = evaluator_f1.evaluate(predictions_rf)\n",
        "\n",
        "print(f\"\\nRandom Forest:\")\n",
        "print(f\"  Accuracy: {accuracy_rf:.4f}\")\n",
        "print(f\"  F1-Score: {f1_rf:.4f}\")\n",
        "\n",
        "# ===== MODÈLE 3: LOGISTIC REGRESSION =====\n",
        "from pyspark.ml.classification import LogisticRegression\n",
        "\n",
        "print(\"\\n\" + \"=\"*60)\n",
        "print(\"=== ENTRAÎNEMENT LOGISTIC REGRESSION ===\")\n",
        "print(\"=\"*60)\n",
        "\n",
        "lr = LogisticRegression(\n",
        "    labelCol=\"label\",\n",
        "    featuresCol=\"features\",\n",
        "    maxIter=20,\n",
        "    regParam=0.3,\n",
        "    elasticNetParam=0.8\n",
        ")\n",
        "\n",
        "pipeline_lr = Pipeline(stages=[\n",
        "    regexTokenizer,\n",
        "    stopwordsRemover,\n",
        "    countVectors,\n",
        "    idf,\n",
        "    lr\n",
        "])\n",
        "\n",
        "print(\"\\nEntraînement en cours...\")\n",
        "model_lr = pipeline_lr.fit(trainingData)\n",
        "predictions_lr = model_lr.transform(testData)\n",
        "print(\"✓ Logistic Regression entraînée avec succès!\")\n",
        "\n",
        "# Évaluation\n",
        "accuracy_lr = evaluator_accuracy.evaluate(predictions_lr)\n",
        "f1_lr = evaluator_f1.evaluate(predictions_lr)\n",
        "\n",
        "print(f\"\\nLogistic Regression:\")\n",
        "print(f\"  Accuracy: {accuracy_lr:.4f}\")\n",
        "print(f\"  F1-Score: {f1_lr:.4f}\")\n"
      ],
      "metadata": {
        "colab": {
          "base_uri": "https://localhost:8080/"
        },
        "id": "FO1q1sNda-M1",
        "outputId": "87c0dc4b-46b4-4677-c08e-aa39acec396b"
      },
      "execution_count": 9,
      "outputs": [
        {
          "output_type": "stream",
          "name": "stdout",
          "text": [
            "\n",
            "============================================================\n",
            "=== ENTRAÎNEMENT RANDOM FOREST ===\n",
            "============================================================\n",
            "\n",
            "Entraînement en cours...\n",
            "✓ Random Forest entraîné avec succès!\n",
            "\n",
            "Random Forest:\n",
            "  Accuracy: 0.9353\n",
            "  F1-Score: 0.9262\n",
            "\n",
            "============================================================\n",
            "=== ENTRAÎNEMENT LOGISTIC REGRESSION ===\n",
            "============================================================\n",
            "\n",
            "Entraînement en cours...\n",
            "✓ Logistic Regression entraînée avec succès!\n",
            "\n",
            "Logistic Regression:\n",
            "  Accuracy: 0.8663\n",
            "  F1-Score: 0.8042\n"
          ]
        }
      ]
    },
    {
      "cell_type": "code",
      "source": [
        "# ===== COMPARAISON DES MODÈLES =====\n",
        "print(\"=== COMPARAISON DES 3 MODÈLES ===\")\n",
        "\n",
        "\n",
        "# Liste des modèles avec leurs prédictions\n",
        "modeles = [\n",
        "    (\"Naive Bayes\", predictions_nb),\n",
        "    (\"Random Forest\", predictions_rf),\n",
        "    (\"Logistic Regression\", predictions_lr)\n",
        "]\n",
        "\n",
        "# Métriques à calculer\n",
        "metriques = [\"accuracy\", \"weightedPrecision\", \"weightedRecall\", \"f1\"]\n",
        "\n",
        "# Tableau de résultats\n",
        "resultats = []\n",
        "\n",
        "for nom_modele, predictions in modeles:\n",
        "    print(f\"\\n{nom_modele}:\")\n",
        "    resultats_modele = {\"Modèle\": nom_modele}\n",
        "\n",
        "    for metrique in metriques:\n",
        "        evaluator = MulticlassClassificationEvaluator(\n",
        "            labelCol=\"label\",\n",
        "            predictionCol=\"prediction\",\n",
        "            metricName=metrique\n",
        "        )\n",
        "        score = evaluator.evaluate(predictions)\n",
        "        resultats_modele[metrique.replace(\"weighted\", \"\")] = score\n",
        "        print(f\"  {metrique}: {score:.4f}\")\n",
        "\n",
        "    resultats.append(resultats_modele)\n",
        "\n",
        "# Afficher un tableau de comparaison\n",
        "print(\"\\n\" + \"=\"*60)\n",
        "print(\"TABLEAU RÉCAPITULATIF\")\n",
        "print(\"=\"*60)\n",
        "print(f\"{'Modèle':<25} {'Accuracy':<12} {'Precision':<12} {'Recall':<12} {'F1-Score':<12}\")\n",
        "print(\"-\" * 73)\n",
        "\n",
        "for r in resultats:\n",
        "    print(f\"{r['Modèle']:<25} {r['accuracy']:<12.4f} {r['Precision']:<12.4f} {r['Recall']:<12.4f} {r['f1']:<12.4f}\")\n",
        "\n",
        "# Identifier le meilleur modèle\n",
        "meilleur = max(resultats, key=lambda x: x['f1'])\n",
        "print(f\"\\n✓ Meilleur modèle: {meilleur['Modèle']} (F1-Score: {meilleur['f1']:.4f})\")\n"
      ],
      "metadata": {
        "colab": {
          "base_uri": "https://localhost:8080/"
        },
        "id": "tqJNZFNftPQd",
        "outputId": "7e10bf9b-981e-4d3c-96b9-9c744087f3ff"
      },
      "execution_count": 10,
      "outputs": [
        {
          "output_type": "stream",
          "name": "stdout",
          "text": [
            "=== COMPARAISON DES 3 MODÈLES ===\n",
            "\n",
            "Naive Bayes:\n",
            "  accuracy: 0.9724\n",
            "  weightedPrecision: 0.9744\n",
            "  weightedRecall: 0.9724\n",
            "  f1: 0.9730\n",
            "\n",
            "Random Forest:\n",
            "  accuracy: 0.9353\n",
            "  weightedPrecision: 0.9398\n",
            "  weightedRecall: 0.9353\n",
            "  f1: 0.9262\n",
            "\n",
            "Logistic Regression:\n",
            "  accuracy: 0.8663\n",
            "  weightedPrecision: 0.7505\n",
            "  weightedRecall: 0.8663\n",
            "  f1: 0.8042\n",
            "\n",
            "============================================================\n",
            "TABLEAU RÉCAPITULATIF\n",
            "============================================================\n",
            "Modèle                    Accuracy     Precision    Recall       F1-Score    \n",
            "-------------------------------------------------------------------------\n",
            "Naive Bayes               0.9724       0.9744       0.9724       0.9730      \n",
            "Random Forest             0.9353       0.9398       0.9353       0.9262      \n",
            "Logistic Regression       0.8663       0.7505       0.8663       0.8042      \n",
            "\n",
            "✓ Meilleur modèle: Naive Bayes (F1-Score: 0.9730)\n"
          ]
        }
      ]
    },
    {
      "cell_type": "code",
      "source": [
        "# ===== VISUALISATION DES MATRICES DE CONFUSION =====\n",
        "print(\"\\n\" + \"=\"*60)\n",
        "print(\"=== VISUALISATION DES MATRICES DE CONFUSION ===\")\n",
        "print(\"=\"*60)\n",
        "\n",
        "# Liste des modèles\n",
        "modeles = [\n",
        "    (\"Naive Bayes\", predictions_nb),\n",
        "    (\"Random Forest\", predictions_rf),\n",
        "    (\"Logistic Regression\", predictions_lr)\n",
        "]\n",
        "\n",
        "# Créer une figure avec 3 sous-graphiques\n",
        "fig, axes = plt.subplots(1, 3, figsize=(18, 5))\n",
        "fig.suptitle('Matrices de Confusion - Détection de Spam', fontsize=16, fontweight='bold')\n",
        "\n",
        "for idx, (nom_modele, predictions) in enumerate(modeles):\n",
        "    # Extraire la matrice de confusion\n",
        "    predictionAndLabels = predictions.select(\"prediction\", \"label\") \\\n",
        "        .rdd.map(lambda x: (float(x[0]), float(x[1])))\n",
        "\n",
        "    metrics = MulticlassMetrics(predictionAndLabels)\n",
        "    confusion_matrix = metrics.confusionMatrix().toArray()\n",
        "\n",
        "    # Créer le heatmap avec Seaborn\n",
        "    sns.heatmap(\n",
        "        confusion_matrix,\n",
        "        annot=True,           # Afficher les nombres\n",
        "        fmt='.0f',            # Format entier\n",
        "        cmap='Blues',         # Palette de couleurs\n",
        "        cbar=True,            # Barre de couleur\n",
        "        square=True,          # Cellules carrées\n",
        "        linewidths=2,         # Lignes entre cellules\n",
        "        linecolor='white',    # Couleur des lignes\n",
        "        ax=axes[idx],         # Axe à utiliser\n",
        "        xticklabels=['HAM (0)', 'SPAM (1)'],\n",
        "        yticklabels=['HAM (0)', 'SPAM (1)']\n",
        "    )\n",
        "\n",
        "    # Personnaliser le graphique\n",
        "    axes[idx].set_title(f'{nom_modele}', fontsize=14, fontweight='bold', pad=10)\n",
        "    axes[idx].set_xlabel('Prédictions', fontsize=12)\n",
        "    axes[idx].set_ylabel('Valeurs Réelles', fontsize=12)\n",
        "\n",
        "    # Ajouter les métriques sous le graphique\n",
        "    tn, fp, fn, tp = confusion_matrix.ravel()\n",
        "    accuracy = (tp + tn) / (tp + tn + fp + fn)\n",
        "\n",
        "    axes[idx].text(\n",
        "        0.5, -0.15,\n",
        "        f'Accuracy: {accuracy:.3f}',\n",
        "        transform=axes[idx].transAxes,\n",
        "        ha='center',\n",
        "        fontsize=11,\n",
        "        fontweight='bold'\n",
        "    )\n",
        "\n",
        "plt.tight_layout()\n",
        "plt.savefig('/content/drive/MyDrive/confusion_matrices.png', dpi=300, bbox_inches='tight')\n",
        "plt.show()\n",
        "\n",
        "print(\"\\n✓ Graphiques sauvegardés dans le Drive!\")\n"
      ],
      "metadata": {
        "colab": {
          "base_uri": "https://localhost:8080/",
          "height": 632
        },
        "id": "1soZUNFOxaut",
        "outputId": "8041273d-8ef3-4a6f-f207-c288cdf2008a"
      },
      "execution_count": 11,
      "outputs": [
        {
          "output_type": "stream",
          "name": "stdout",
          "text": [
            "\n",
            "============================================================\n",
            "=== VISUALISATION DES MATRICES DE CONFUSION ===\n",
            "============================================================\n"
          ]
        },
        {
          "output_type": "stream",
          "name": "stderr",
          "text": [
            "/usr/local/lib/python3.12/dist-packages/pyspark/sql/context.py:158: FutureWarning: Deprecated in 3.0.0. Use SparkSession.builder.getOrCreate() instead.\n",
            "  warnings.warn(\n",
            "/usr/local/lib/python3.12/dist-packages/pyspark/sql/context.py:158: FutureWarning: Deprecated in 3.0.0. Use SparkSession.builder.getOrCreate() instead.\n",
            "  warnings.warn(\n",
            "/usr/local/lib/python3.12/dist-packages/pyspark/sql/context.py:158: FutureWarning: Deprecated in 3.0.0. Use SparkSession.builder.getOrCreate() instead.\n",
            "  warnings.warn(\n"
          ]
        },
        {
          "output_type": "display_data",
          "data": {
            "text/plain": [
              "<Figure size 1800x500 with 6 Axes>"
            ],
            "image/png": "[encoded data removed]"
          },
          "metadata": {}
        },
        {
          "output_type": "stream",
          "name": "stdout",
          "text": [
            "\n",
            "✓ Graphiques sauvegardés dans le Drive!\n"
          ]
        }
      ]
    },
    {
      "cell_type": "code",
      "source": [
        "# ===== TEST AVEC LE MODÈLE NAIVE BAYES =====\n",
        "print(\"\\n\" + \"=\"*60)\n",
        "print(\"=== TEST SUR NOUVEAUX EMAILS - NAIVE BAYES ===\")\n",
        "print(\"=\"*60)\n",
        "\n",
        "# Créer des exemples d'emails à tester\n",
        "nouveaux_emails = spark.createDataFrame([\n",
        "    (1, \"WINNER! You've won $1000 cash prize. Click here to claim now!\"),\n",
        "    (2, \"Hi John, can we schedule our meeting for tomorrow at 3pm?\"),\n",
        "    (3, \"URGENT: Your bank account has been suspended. Verify immediately!\"),\n",
        "    (4, \"Thanks for your email. I'll review the document and get back to you.\"),\n",
        "    (5, \"Congratulations! FREE iPhone 15 waiting for you. Act now!\"),\n",
        "    (6, \"Meeting notes from today are attached. Let me know if you have questions.\"),\n",
        "    (7, \"CALL NOW to claim your FREE vacation to Bahamas!!!\"),\n",
        "    (8, \"Hi team, please find the quarterly report in the attachment.\"),\n",
        "    (9, \"You have been selected for a special offer. Click here for details.\"),\n",
        "    (10, \"Reminder: Your dentist appointment is tomorrow at 2pm.\")\n",
        "], [\"id\", \"texte\"])\n",
        "\n",
        "print(\"\\n=== Prédictions avec Naive Bayes (F1-Score: 0.9730) ===\\n\")\n",
        "\n",
        "# Faire les prédictions\n",
        "predictions_nouveaux = model_nb.transform(nouveaux_emails)\n",
        "\n",
        "# Afficher les résultats de manière détaillée\n",
        "for row in predictions_nouveaux.select(\"id\", \"texte\", \"prediction\", \"probability\").collect():\n",
        "    prediction_label = \"SPAM ⚠️\" if row['prediction'] == 1.0 else \"HAM ✅\"\n",
        "    spam_prob = float(row['probability'][1]) * 100\n",
        "    ham_prob = float(row['probability'][0]) * 100\n",
        "\n",
        "    # Couleur selon la prédiction\n",
        "    if row['prediction'] == 1.0:\n",
        "        color = \"🔴\"\n",
        "    else:\n",
        "        color = \"🟢\"\n",
        "\n",
        "    print(f\"{color} [Email #{row['id']}]\")\n",
        "    print(f\"   Texte: {row['texte']}\")\n",
        "    print(f\"   Prédiction: {prediction_label}\")\n",
        "    print(f\"   Confiance SPAM: {spam_prob:.2f}% | HAM: {ham_prob:.2f}%\")\n",
        "    print(\"-\" * 80)\n",
        "\n",
        "# Afficher un résumé\n",
        "print(\"\\n=== RÉSUMÉ DES PRÉDICTIONS ===\")\n",
        "summary = predictions_nouveaux.groupBy(\"prediction\").count().collect()\n",
        "\n",
        "for row in summary:\n",
        "    label = \"SPAM\" if row['prediction'] == 1.0 else \"HAM\"\n",
        "    print(f\"{label}: {row['count']} emails\")\n"
      ],
      "metadata": {
        "colab": {
          "base_uri": "https://localhost:8080/"
        },
        "id": "T0kEgmbTy8Fl",
        "outputId": "30ad07b0-4228-449d-b7a7-1332b0285df5"
      },
      "execution_count": 12,
      "outputs": [
        {
          "output_type": "stream",
          "name": "stdout",
          "text": [
            "\n",
            "============================================================\n",
            "=== TEST SUR NOUVEAUX EMAILS - NAIVE BAYES ===\n",
            "============================================================\n",
            "\n",
            "=== Prédictions avec Naive Bayes (F1-Score: 0.9730) ===\n",
            "\n",
            "🔴 [Email #1]\n",
            "   Texte: WINNER! You've won $1000 cash prize. Click here to claim now!\n",
            "   Prédiction: SPAM ⚠️\n",
            "   Confiance SPAM: 100.00% | HAM: 0.00%\n",
            "--------------------------------------------------------------------------------\n",
            "🟢 [Email #2]\n",
            "   Texte: Hi John, can we schedule our meeting for tomorrow at 3pm?\n",
            "   Prédiction: HAM ✅\n",
            "   Confiance SPAM: 0.00% | HAM: 100.00%\n",
            "--------------------------------------------------------------------------------\n",
            "🔴 [Email #3]\n",
            "   Texte: URGENT: Your bank account has been suspended. Verify immediately!\n",
            "   Prédiction: SPAM ⚠️\n",
            "   Confiance SPAM: 100.00% | HAM: 0.00%\n",
            "--------------------------------------------------------------------------------\n",
            "🟢 [Email #4]\n",
            "   Texte: Thanks for your email. I'll review the document and get back to you.\n",
            "   Prédiction: HAM ✅\n",
            "   Confiance SPAM: 0.00% | HAM: 100.00%\n",
            "--------------------------------------------------------------------------------\n",
            "🔴 [Email #5]\n",
            "   Texte: Congratulations! FREE iPhone 15 waiting for you. Act now!\n",
            "   Prédiction: SPAM ⚠️\n",
            "   Confiance SPAM: 100.00% | HAM: 0.00%\n",
            "--------------------------------------------------------------------------------\n",
            "🟢 [Email #6]\n",
            "   Texte: Meeting notes from today are attached. Let me know if you have questions.\n",
            "   Prédiction: HAM ✅\n",
            "   Confiance SPAM: 0.00% | HAM: 100.00%\n",
            "--------------------------------------------------------------------------------\n",
            "🔴 [Email #7]\n",
            "   Texte: CALL NOW to claim your FREE vacation to Bahamas!!!\n",
            "   Prédiction: SPAM ⚠️\n",
            "   Confiance SPAM: 100.00% | HAM: 0.00%\n",
            "--------------------------------------------------------------------------------\n",
            "🔴 [Email #8]\n",
            "   Texte: Hi team, please find the quarterly report in the attachment.\n",
            "   Prédiction: SPAM ⚠️\n",
            "   Confiance SPAM: 87.03% | HAM: 12.97%\n",
            "--------------------------------------------------------------------------------\n",
            "🔴 [Email #9]\n",
            "   Texte: You have been selected for a special offer. Click here for details.\n",
            "   Prédiction: SPAM ⚠️\n",
            "   Confiance SPAM: 100.00% | HAM: 0.00%\n",
            "--------------------------------------------------------------------------------\n",
            "🟢 [Email #10]\n",
            "   Texte: Reminder: Your dentist appointment is tomorrow at 2pm.\n",
            "   Prédiction: HAM ✅\n",
            "   Confiance SPAM: 0.55% | HAM: 99.45%\n",
            "--------------------------------------------------------------------------------\n",
            "\n",
            "=== RÉSUMÉ DES PRÉDICTIONS ===\n",
            "HAM: 4 emails\n",
            "SPAM: 6 emails\n"
          ]
        }
      ]
    },
    {
      "cell_type": "code",
      "source": [
        "# ===== SAUVEGARDER LE MEILLEUR MODÈLE =====\n",
        "print(\"\\n=== SAUVEGARDE DU MODÈLE NAIVE BAYES ===\")\n",
        "\n",
        "model_path = \"/content/drive/MyDrive/spam_detection_naive_bayes_best\"\n",
        "\n",
        "try:\n",
        "    model_nb.write().overwrite().save(model_path)\n",
        "    print(f\"✓ Modèle Naive Bayes sauvegardé avec succès!\")\n",
        "    print(f\"Chemin: {model_path}\")\n",
        "    print(f\"Performance: F1-Score = 0.9730\")\n",
        "\n",
        "    # Vérifier le chargement\n",
        "    from pyspark.ml import PipelineModel\n",
        "    loaded_model = PipelineModel.load(model_path)\n",
        "    print(\"✓ Vérification: Modèle rechargé avec succès!\")\n",
        "\n",
        "except Exception as e:\n",
        "    print(f\"❌ Erreur: {e}\")\n",
        "\n"
      ],
      "metadata": {
        "colab": {
          "base_uri": "https://localhost:8080/"
        },
        "id": "LtHl2foYyWUt",
        "outputId": "e1cfdf56-8257-4afb-bc23-5ebfeff09a3a"
      },
      "execution_count": 13,
      "outputs": [
        {
          "output_type": "stream",
          "name": "stdout",
          "text": [
            "\n",
            "=== SAUVEGARDE DU MODÈLE NAIVE BAYES ===\n",
            "✓ Modèle Naive Bayes sauvegardé avec succès!\n",
            "Chemin: /content/drive/MyDrive/spam_detection_naive_bayes_best\n",
            "Performance: F1-Score = 0.9730\n",
            "✓ Vérification: Modèle rechargé avec succès!\n"
          ]
        }
      ]
    }
  ]
}